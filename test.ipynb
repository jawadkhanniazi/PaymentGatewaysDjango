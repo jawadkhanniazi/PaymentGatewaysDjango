{
 "cells": [
  {
   "cell_type": "code",
   "execution_count": 1,
   "metadata": {},
   "outputs": [],
   "source": [
    "import json"
   ]
  },
  {
   "cell_type": "code",
   "execution_count": 3,
   "metadata": {},
   "outputs": [],
   "source": [
    "with open('response.json','r') as file:\n",
    "    session = json.load(file)\n"
   ]
  },
  {
   "cell_type": "code",
   "execution_count": 1,
   "metadata": {},
   "outputs": [
    {
     "ename": "NameError",
     "evalue": "name 'session' is not defined",
     "output_type": "error",
     "traceback": [
      "\u001b[1;31m---------------------------------------------------------------------------\u001b[0m",
      "\u001b[1;31mNameError\u001b[0m                                 Traceback (most recent call last)",
      "Cell \u001b[1;32mIn[1], line 1\u001b[0m\n\u001b[1;32m----> 1\u001b[0m customer_email \u001b[39m=\u001b[39m session[\u001b[39m\"\u001b[39m\u001b[39mcustomer_details\u001b[39m\u001b[39m\"\u001b[39m][\u001b[39m\"\u001b[39m\u001b[39memail\u001b[39m\u001b[39m\"\u001b[39m] \n\u001b[0;32m      2\u001b[0m product_id \u001b[39m=\u001b[39m session[\u001b[39m\"\u001b[39m\u001b[39mmetadata\u001b[39m\u001b[39m\"\u001b[39m][\u001b[39m\"\u001b[39m\u001b[39mproduct_id\u001b[39m\u001b[39m\"\u001b[39m]\n\u001b[0;32m      3\u001b[0m order_data \u001b[39m=\u001b[39m session[\u001b[39m\"\u001b[39m\u001b[39mline_items\u001b[39m\u001b[39m\"\u001b[39m][\u001b[39m\"\u001b[39m\u001b[39mdata\u001b[39m\u001b[39m\"\u001b[39m]\n",
      "\u001b[1;31mNameError\u001b[0m: name 'session' is not defined"
     ]
    }
   ],
   "source": [
    "customer_email = session[\"customer_details\"][\"email\"] \n",
    "product_id = session[\"metadata\"][\"product_id\"]\n",
    "order_data = session[\"line_items\"][\"data\"]\n",
    "payment_method_type= session[\"payment_method_types\"][0]\n",
    "payment_status = session[\"payment_status\"]\n",
    "order_status = session[\"status\"]\n",
    "print(\n",
    "    product_id,\n",
    "    customer_email,\n",
    "    payment_method_type,\n",
    "    payment_status,\n",
    "    order_status)"
   ]
  },
  {
   "cell_type": "code",
   "execution_count": 1,
   "metadata": {},
   "outputs": [],
   "source": [
    "d ={\n",
    "    \"a\":1,\n",
    "    \"b\":2\n",
    "}"
   ]
  },
  {
   "cell_type": "code",
   "execution_count": 4,
   "metadata": {},
   "outputs": [
    {
     "data": {
      "text/plain": [
       "'a'"
      ]
     },
     "execution_count": 4,
     "metadata": {},
     "output_type": "execute_result"
    }
   ],
   "source": [
    "[k for k in d.keys()][0]"
   ]
  }
 ],
 "metadata": {
  "kernelspec": {
   "display_name": "Python 3",
   "language": "python",
   "name": "python3"
  },
  "language_info": {
   "codemirror_mode": {
    "name": "ipython",
    "version": 3
   },
   "file_extension": ".py",
   "mimetype": "text/x-python",
   "name": "python",
   "nbconvert_exporter": "python",
   "pygments_lexer": "ipython3",
   "version": "3.11.1"
  },
  "orig_nbformat": 4,
  "vscode": {
   "interpreter": {
    "hash": "c3e34b8e237b8ff066b56b4d6b2660af21f6f707846f38cf5e6891a4598256a9"
   }
  }
 },
 "nbformat": 4,
 "nbformat_minor": 2
}
